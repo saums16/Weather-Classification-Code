{
 "cells": [
  {
   "cell_type": "markdown",
   "metadata": {},
   "source": [
    "# Upgrading anaconda"
   ]
  },
  {
   "cell_type": "code",
   "execution_count": 1,
   "metadata": {},
   "outputs": [
    {
     "name": "stdout",
     "output_type": "stream",
     "text": [
      "Collecting package metadata (current_repodata.json): ...working... done\n",
      "Solving environment: ...working... done\n",
      "\n",
      "## Package Plan ##\n",
      "\n",
      "  environment location: C:\\Users\\Vimal\\anaconda3\n",
      "\n",
      "  added / updated specs:\n",
      "    - conda\n",
      "\n",
      "\n",
      "The following packages will be downloaded:\n",
      "\n",
      "    package                    |            build\n",
      "    ---------------------------|-----------------\n",
      "    appdirs-1.4.4              |             py_0          13 KB\n",
      "    black-19.10b0              |             py_0          86 KB\n",
      "    ca-certificates-2020.12.8  |       haa95532_0         122 KB\n",
      "    certifi-2020.12.5          |   py38haa95532_0         141 KB\n",
      "    colorama-0.4.4             |     pyhd3eb1b0_0          21 KB\n",
      "    cryptography-3.3.1         |   py38hcd4344a_0         610 KB\n",
      "    dask-2020.12.0             |     pyhd3eb1b0_0           5 KB\n",
      "    dask-core-2020.12.0        |     pyhd3eb1b0_0         632 KB\n",
      "    distributed-2020.12.0      |   py38haa95532_0         1.1 MB\n",
      "    jedi-0.17.2                |   py38haa95532_1         921 KB\n",
      "    joblib-1.0.0               |     pyhd3eb1b0_0         208 KB\n",
      "    lazy-object-proxy-1.4.3    |   py38h2bbff1b_2          31 KB\n",
      "    matplotlib-3.3.2           |       haa95532_0          25 KB\n",
      "    mock-4.0.3                 |     pyhd3eb1b0_0          29 KB\n",
      "    msgpack-python-1.0.1       |   py38h59b6b97_0          76 KB\n",
      "    mypy_extensions-0.4.3      |           py38_0          10 KB\n",
      "    notebook-6.1.5             |   py38haa95532_0         4.4 MB\n",
      "    numexpr-2.7.1              |   py38h054117c_0         125 KB\n",
      "    openssl-1.1.1i             |       h2bbff1b_0         4.8 MB\n",
      "    packaging-20.8             |     pyhd3eb1b0_0          36 KB\n",
      "    path-15.0.1                |   py38haa95532_0          87 KB\n",
      "    pathspec-0.7.0             |             py_0          26 KB\n",
      "    py-1.10.0                  |     pyhd3eb1b0_0          76 KB\n",
      "    pygments-2.7.3             |     pyhd3eb1b0_0         676 KB\n",
      "    pyls-black-0.4.6           |       hd3eb1b0_0           9 KB\n",
      "    pyls-spyder-0.2.1          |     pyhd3eb1b0_0          11 KB\n",
      "    pytest-6.2.0               |   py38haa95532_0         450 KB\n",
      "    python-language-server-0.36.2|     pyhd3eb1b0_0          41 KB\n",
      "    send2trash-1.5.0           |     pyhd3eb1b0_1          14 KB\n",
      "    setuptools-51.0.0          |   py38haa95532_2         741 KB\n",
      "    soupsieve-2.1              |     pyhd3eb1b0_0          31 KB\n",
      "    spyder-4.2.0               |   py38haa95532_0         5.7 MB\n",
      "    spyder-kernels-1.10.0      |   py38haa95532_0         123 KB\n",
      "    three-merge-0.1.1          |     pyhd3eb1b0_0          10 KB\n",
      "    tifffile-2020.12.8         |     pyhd3eb1b0_0         127 KB\n",
      "    tqdm-4.54.1                |     pyhd3eb1b0_0          55 KB\n",
      "    typed-ast-1.4.1            |   py38he774522_0         143 KB\n",
      "    vc-14.2                    |       h21ff451_1           8 KB\n",
      "    vs2015_runtime-14.27.29016 |       h5e58377_2        1007 KB\n",
      "    wheel-0.36.2               |     pyhd3eb1b0_0          33 KB\n",
      "    ------------------------------------------------------------\n",
      "                                           Total:        22.6 MB\n",
      "\n",
      "The following NEW packages will be INSTALLED:\n",
      "\n",
      "  appdirs            pkgs/main/noarch::appdirs-1.4.4-py_0\n",
      "  black              pkgs/main/noarch::black-19.10b0-py_0\n",
      "  mypy_extensions    pkgs/main/win-64::mypy_extensions-0.4.3-py38_0\n",
      "  pathspec           pkgs/main/noarch::pathspec-0.7.0-py_0\n",
      "  pyls-black         pkgs/main/noarch::pyls-black-0.4.6-hd3eb1b0_0\n",
      "  pyls-spyder        pkgs/main/noarch::pyls-spyder-0.2.1-pyhd3eb1b0_0\n",
      "  three-merge        pkgs/main/noarch::three-merge-0.1.1-pyhd3eb1b0_0\n",
      "  typed-ast          pkgs/main/win-64::typed-ast-1.4.1-py38he774522_0\n",
      "Note: you may need to restart the kernel to use updated packages.\n",
      "\n"
     ]
    },
    {
     "name": "stderr",
     "output_type": "stream",
     "text": [
      "DEBUG menuinst_win32:__init__(198): Menu: name: 'Anaconda${PY_VER} ${PLATFORM}', prefix: 'C:\\Users\\Vimal\\anaconda3', env_name: 'None', mode: 'user', used_mode: 'user'\n",
      "DEBUG menuinst_win32:create(323): Shortcut cmd is C:\\Users\\Vimal\\anaconda3\\pythonw.exe, args are ['C:\\\\Users\\\\Vimal\\\\anaconda3\\\\cwp.py', 'C:\\\\Users\\\\Vimal\\\\anaconda3', 'C:\\\\Users\\\\Vimal\\\\anaconda3\\\\pythonw.exe', 'C:\\\\Users\\\\Vimal\\\\anaconda3\\\\Scripts\\\\spyder-script.py']\n",
      "DEBUG menuinst_win32:create(323): Shortcut cmd is C:\\Users\\Vimal\\anaconda3\\python.exe, args are ['C:\\\\Users\\\\Vimal\\\\anaconda3\\\\cwp.py', 'C:\\\\Users\\\\Vimal\\\\anaconda3', 'C:\\\\Users\\\\Vimal\\\\anaconda3\\\\python.exe', 'C:\\\\Users\\\\Vimal\\\\anaconda3\\\\Scripts\\\\spyder-script.py', '--reset']\n",
      "DEBUG menuinst_win32:__init__(198): Menu: name: 'Anaconda${PY_VER} ${PLATFORM}', prefix: 'C:\\Users\\Vimal\\anaconda3', env_name: 'None', mode: 'user', used_mode: 'user'\n",
      "DEBUG menuinst_win32:create(323): Shortcut cmd is C:\\Users\\Vimal\\anaconda3\\pythonw.exe, args are ['C:\\\\Users\\\\Vimal\\\\anaconda3\\\\cwp.py', 'C:\\\\Users\\\\Vimal\\\\anaconda3', 'C:\\\\Users\\\\Vimal\\\\anaconda3\\\\pythonw.exe', 'C:\\\\Users\\\\Vimal\\\\anaconda3\\\\Scripts\\\\spyder-script.py']\n",
      "DEBUG menuinst_win32:create(323): Shortcut cmd is C:\\Users\\Vimal\\anaconda3\\python.exe, args are ['C:\\\\Users\\\\Vimal\\\\anaconda3\\\\cwp.py', 'C:\\\\Users\\\\Vimal\\\\anaconda3', 'C:\\\\Users\\\\Vimal\\\\anaconda3\\\\python.exe', 'C:\\\\Users\\\\Vimal\\\\anaconda3\\\\Scripts\\\\spyder-script.py', '--reset']\n",
      "DEBUG menuinst_win32:__init__(198): Menu: name: 'Anaconda${PY_VER} ${PLATFORM}', prefix: 'C:\\Users\\Vimal\\anaconda3', env_name: 'None', mode: 'user', used_mode: 'user'\n",
      "DEBUG menuinst_win32:create(323): Shortcut cmd is C:\\Users\\Vimal\\anaconda3\\python.exe, args are ['C:\\\\Users\\\\Vimal\\\\anaconda3\\\\cwp.py', 'C:\\\\Users\\\\Vimal\\\\anaconda3', 'C:\\\\Users\\\\Vimal\\\\anaconda3\\\\python.exe', 'C:\\\\Users\\\\Vimal\\\\anaconda3\\\\Scripts\\\\jupyter-notebook-script.py', '\"%USERPROFILE%/\"']\n",
      "DEBUG menuinst_win32:__init__(198): Menu: name: 'Anaconda${PY_VER} ${PLATFORM}', prefix: 'C:\\Users\\Vimal\\anaconda3', env_name: 'None', mode: 'user', used_mode: 'user'\n",
      "DEBUG menuinst_win32:create(323): Shortcut cmd is C:\\Users\\Vimal\\anaconda3\\python.exe, args are ['C:\\\\Users\\\\Vimal\\\\anaconda3\\\\cwp.py', 'C:\\\\Users\\\\Vimal\\\\anaconda3', 'C:\\\\Users\\\\Vimal\\\\anaconda3\\\\python.exe', 'C:\\\\Users\\\\Vimal\\\\anaconda3\\\\Scripts\\\\jupyter-notebook-script.py', '\"%USERPROFILE%/\"']\n",
      "DEBUG menuinst_win32:__init__(198): Menu: name: 'Anaconda${PY_VER} ${PLATFORM}', prefix: 'C:\\Users\\Vimal\\anaconda3', env_name: 'None', mode: 'user', used_mode: 'user'\n",
      "DEBUG menuinst_win32:create(323): Shortcut cmd is C:\\Users\\Vimal\\anaconda3\\python.exe, args are ['C:\\\\Users\\\\Vimal\\\\anaconda3\\\\cwp.py', 'C:\\\\Users\\\\Vimal\\\\anaconda3', 'C:\\\\Users\\\\Vimal\\\\anaconda3\\\\python.exe', 'C:\\\\Users\\\\Vimal\\\\anaconda3\\\\Scripts\\\\jupyter-notebook-script.py', '\"%USERPROFILE%/\"']\n",
      "DEBUG menuinst_win32:__init__(198): Menu: name: 'Anaconda${PY_VER} ${PLATFORM}', prefix: 'C:\\Users\\Vimal\\anaconda3', env_name: 'None', mode: 'user', used_mode: 'user'\n",
      "DEBUG menuinst_win32:create(323): Shortcut cmd is C:\\Users\\Vimal\\anaconda3\\pythonw.exe, args are ['C:\\\\Users\\\\Vimal\\\\anaconda3\\\\cwp.py', 'C:\\\\Users\\\\Vimal\\\\anaconda3', 'C:\\\\Users\\\\Vimal\\\\anaconda3\\\\pythonw.exe', 'C:\\\\Users\\\\Vimal\\\\anaconda3\\\\Scripts\\\\spyder-script.py']\n",
      "DEBUG menuinst_win32:create(323): Shortcut cmd is C:\\Users\\Vimal\\anaconda3\\python.exe, args are ['C:\\\\Users\\\\Vimal\\\\anaconda3\\\\cwp.py', 'C:\\\\Users\\\\Vimal\\\\anaconda3', 'C:\\\\Users\\\\Vimal\\\\anaconda3\\\\python.exe', 'C:\\\\Users\\\\Vimal\\\\anaconda3\\\\Scripts\\\\spyder-script.py', '--reset']\n"
     ]
    },
    {
     "name": "stdout",
     "output_type": "stream",
     "text": [
      "\n",
      "The following packages will be UPDATED:\n",
      "\n",
      "  ca-certificates                              2020.10.14-0 --> 2020.12.8-haa95532_0\n",
      "  certifi                          2020.11.8-py38haa95532_0 --> 2020.12.5-py38haa95532_0\n",
      "  cryptography                         3.2.1-py38hcd4344a_1 --> 3.3.1-py38hcd4344a_0\n",
      "  dask                                          2.30.0-py_0 --> 2020.12.0-pyhd3eb1b0_0\n",
      "  dask-core                                     2.30.0-py_0 --> 2020.12.0-pyhd3eb1b0_0\n",
      "  distributed                         2.30.1-py38haa95532_0 --> 2020.12.0-py38haa95532_0\n",
      "  jedi                                        0.17.1-py38_0 --> 0.17.2-py38haa95532_1\n",
      "  joblib                                        0.17.0-py_0 --> 1.0.0-pyhd3eb1b0_0\n",
      "  lazy-object-proxy                    1.4.3-py38he774522_0 --> 1.4.3-py38h2bbff1b_2\n",
      "  mock                                           4.0.2-py_0 --> 4.0.3-pyhd3eb1b0_0\n",
      "  msgpack-python                       1.0.0-py38h74a9793_1 --> 1.0.1-py38h59b6b97_0\n",
      "  notebook                                     6.1.4-py38_0 --> 6.1.5-py38haa95532_0\n",
      "  openssl                                 1.1.1h-he774522_0 --> 1.1.1i-h2bbff1b_0\n",
      "  packaging                               20.7-pyhd3eb1b0_0 --> 20.8-pyhd3eb1b0_0\n",
      "  path                                        15.0.0-py38_0 --> 15.0.1-py38haa95532_0\n",
      "  py                                             1.9.0-py_0 --> 1.10.0-pyhd3eb1b0_0\n",
      "  pygments                               2.7.2-pyhd3eb1b0_0 --> 2.7.3-pyhd3eb1b0_0\n",
      "  pytest                               6.1.2-py38haa95532_0 --> 6.2.0-py38haa95532_0\n",
      "  python-language-s~                            0.35.1-py_0 --> 0.36.2-pyhd3eb1b0_0\n",
      "  send2trash         pkgs/main/win-64::send2trash-1.5.0-py~ --> pkgs/main/noarch::send2trash-1.5.0-pyhd3eb1b0_1\n",
      "  setuptools                          50.3.2-py38haa95532_2 --> 51.0.0-py38haa95532_2\n",
      "  soupsieve                                      2.0.1-py_0 --> 2.1-pyhd3eb1b0_0\n",
      "  spyder                                       4.1.5-py38_0 --> 4.2.0-py38haa95532_0\n",
      "  spyder-kernels                               1.9.4-py38_0 --> 1.10.0-py38haa95532_0\n",
      "  tifffile                          2020.11.26-pyhd3eb1b0_0 --> 2020.12.8-pyhd3eb1b0_0\n",
      "  tqdm                                  4.54.0-pyhd3eb1b0_0 --> 4.54.1-pyhd3eb1b0_0\n",
      "  vc                                        14.1-h0510ff6_4 --> 14.2-h21ff451_1\n",
      "  vs2015_runtime                     14.16.27012-hf0eaf9b_3 --> 14.27.29016-h5e58377_2\n",
      "  wheel                                 0.36.0-pyhd3eb1b0_0 --> 0.36.2-pyhd3eb1b0_0\n",
      "\n",
      "The following packages will be DOWNGRADED:\n",
      "\n",
      "  colorama                                       0.4.4-py_0 --> 0.4.4-pyhd3eb1b0_0\n",
      "  matplotlib                                        3.3.2-0 --> 3.3.2-haa95532_0\n",
      "  numexpr                              2.7.1-py38h25d0782_0 --> 2.7.1-py38h054117c_0\n",
      "\n",
      "\n",
      "\n",
      "Downloading and Extracting Packages\n",
      "\n",
      "pygments-2.7.3       | 676 KB    |            |   0% \n",
      "pygments-2.7.3       | 676 KB    | 2          |   2% \n",
      "pygments-2.7.3       | 676 KB    | #8         |  19% \n",
      "pygments-2.7.3       | 676 KB    | ###3       |  33% \n",
      "pygments-2.7.3       | 676 KB    | ####4      |  45% \n",
      "pygments-2.7.3       | 676 KB    | #####4     |  54% \n",
      "pygments-2.7.3       | 676 KB    | ######3    |  64% \n",
      "pygments-2.7.3       | 676 KB    | #######3   |  73% \n",
      "pygments-2.7.3       | 676 KB    | ########5  |  85% \n",
      "pygments-2.7.3       | 676 KB    | #########4 |  95% \n",
      "pygments-2.7.3       | 676 KB    | ########## | 100% \n",
      "\n",
      "appdirs-1.4.4        | 13 KB     |            |   0% \n",
      "appdirs-1.4.4        | 13 KB     | ########## | 100% \n",
      "appdirs-1.4.4        | 13 KB     | ########## | 100% \n",
      "\n",
      "lazy-object-proxy-1. | 31 KB     |            |   0% \n",
      "lazy-object-proxy-1. | 31 KB     | ########## | 100% \n",
      "lazy-object-proxy-1. | 31 KB     | ########## | 100% \n",
      "\n",
      "pytest-6.2.0         | 450 KB    |            |   0% \n",
      "pytest-6.2.0         | 450 KB    | #          |  11% \n",
      "pytest-6.2.0         | 450 KB    | ###5       |  36% \n",
      "pytest-6.2.0         | 450 KB    | #####3     |  53% \n",
      "pytest-6.2.0         | 450 KB    | #######1   |  71% \n",
      "pytest-6.2.0         | 450 KB    | ########8  |  89% \n",
      "pytest-6.2.0         | 450 KB    | ########## | 100% \n",
      "\n",
      "path-15.0.1          | 87 KB     |            |   0% \n",
      "path-15.0.1          | 87 KB     | #8         |  18% \n",
      "path-15.0.1          | 87 KB     | ########## | 100% \n",
      "path-15.0.1          | 87 KB     | ########## | 100% \n",
      "\n",
      "vc-14.2              | 8 KB      |            |   0% \n",
      "vc-14.2              | 8 KB      | ########## | 100% \n",
      "vc-14.2              | 8 KB      | ########## | 100% \n",
      "\n",
      "setuptools-51.0.0    | 741 KB    |            |   0% \n",
      "setuptools-51.0.0    | 741 KB    | 2          |   2% \n",
      "setuptools-51.0.0    | 741 KB    | ##5        |  26% \n",
      "setuptools-51.0.0    | 741 KB    | ###4       |  35% \n",
      "setuptools-51.0.0    | 741 KB    | ####5      |  45% \n",
      "setuptools-51.0.0    | 741 KB    | #####8     |  58% \n",
      "setuptools-51.0.0    | 741 KB    | #######1   |  71% \n",
      "setuptools-51.0.0    | 741 KB    | ########2  |  82% \n",
      "setuptools-51.0.0    | 741 KB    | #########  |  91% \n",
      "setuptools-51.0.0    | 741 KB    | ########## | 100% \n",
      "setuptools-51.0.0    | 741 KB    | ########## | 100% \n",
      "\n",
      "black-19.10b0        | 86 KB     |            |   0% \n",
      "black-19.10b0        | 86 KB     | ###7       |  37% \n",
      "black-19.10b0        | 86 KB     | ########## | 100% \n",
      "black-19.10b0        | 86 KB     | ########## | 100% \n",
      "\n",
      "certifi-2020.12.5    | 141 KB    |            |   0% \n",
      "certifi-2020.12.5    | 141 KB    | ##2        |  23% \n",
      "certifi-2020.12.5    | 141 KB    | #######9   |  79% \n",
      "certifi-2020.12.5    | 141 KB    | ########## | 100% \n",
      "certifi-2020.12.5    | 141 KB    | ########## | 100% \n",
      "\n",
      "colorama-0.4.4       | 21 KB     |            |   0% \n",
      "colorama-0.4.4       | 21 KB     | #######7   |  77% \n",
      "colorama-0.4.4       | 21 KB     | ########## | 100% \n",
      "\n",
      "numexpr-2.7.1        | 125 KB    |            |   0% \n",
      "numexpr-2.7.1        | 125 KB    | ##5        |  26% \n",
      "numexpr-2.7.1        | 125 KB    | ########## | 100% \n",
      "numexpr-2.7.1        | 125 KB    | ########## | 100% \n",
      "\n",
      "matplotlib-3.3.2     | 25 KB     |            |   0% \n",
      "matplotlib-3.3.2     | 25 KB     | ########## | 100% \n",
      "matplotlib-3.3.2     | 25 KB     | ########## | 100% \n",
      "\n",
      "ca-certificates-2020 | 122 KB    |            |   0% \n",
      "ca-certificates-2020 | 122 KB    | ##6        |  26% \n",
      "ca-certificates-2020 | 122 KB    | #########1 |  92% \n",
      "ca-certificates-2020 | 122 KB    | ########## | 100% \n",
      "\n",
      "openssl-1.1.1i       | 4.8 MB    |            |   0% \n",
      "openssl-1.1.1i       | 4.8 MB    |            |   1% \n",
      "openssl-1.1.1i       | 4.8 MB    | 2          |   2% \n",
      "openssl-1.1.1i       | 4.8 MB    | 3          |   3% \n",
      "openssl-1.1.1i       | 4.8 MB    | 4          |   4% \n",
      "openssl-1.1.1i       | 4.8 MB    | 5          |   6% \n",
      "openssl-1.1.1i       | 4.8 MB    | 7          |   7% \n",
      "openssl-1.1.1i       | 4.8 MB    | 8          |   9% \n",
      "openssl-1.1.1i       | 4.8 MB    | #          |  10% \n",
      "openssl-1.1.1i       | 4.8 MB    | #1         |  12% \n",
      "openssl-1.1.1i       | 4.8 MB    | #3         |  14% \n",
      "openssl-1.1.1i       | 4.8 MB    | #5         |  16% \n",
      "openssl-1.1.1i       | 4.8 MB    | #7         |  17% \n",
      "openssl-1.1.1i       | 4.8 MB    | #8         |  19% \n",
      "openssl-1.1.1i       | 4.8 MB    | ##         |  20% \n",
      "openssl-1.1.1i       | 4.8 MB    | ##1        |  22% \n",
      "openssl-1.1.1i       | 4.8 MB    | ##2        |  23% \n",
      "openssl-1.1.1i       | 4.8 MB    | ##4        |  25% \n",
      "openssl-1.1.1i       | 4.8 MB    | ##6        |  26% \n",
      "openssl-1.1.1i       | 4.8 MB    | ##8        |  28% \n",
      "openssl-1.1.1i       | 4.8 MB    | ##9        |  30% \n",
      "openssl-1.1.1i       | 4.8 MB    | ###1       |  31% "
     ]
    }
   ],
   "source": [
    "# Upgrading anaconda\n",
    "conda upgrade conda"
   ]
  },
  {
   "cell_type": "code",
   "execution_count": 2,
   "metadata": {},
   "outputs": [
    {
     "name": "stdout",
     "output_type": "stream",
     "text": [
      "\n",
      "openssl-1.1.1i       | 4.8 MB    | ###2       |  33% \n",
      "openssl-1.1.1i       | 4.8 MB    | ###4       |  35% \n",
      "openssl-1.1.1i       | 4.8 MB    | ###6       |  37% \n",
      "openssl-1.1.1i       | 4.8 MB    | ###8       |  38% \n",
      "openssl-1.1.1i       | 4.8 MB    | ###9       |  40% \n",
      "openssl-1.1.1i       | 4.8 MB    | ####1      |  42% \n",
      "openssl-1.1.1i       | 4.8 MB    | ####3      |  43% \n",
      "openssl-1.1.1i       | 4.8 MB    | ####4      |  45% \n",
      "openssl-1.1.1i       | 4.8 MB    | ####6      |  47% \n",
      "openssl-1.1.1i       | 4.8 MB    | ####8      |  49% \n",
      "openssl-1.1.1i       | 4.8 MB    | #####2     |  52% \n",
      "openssl-1.1.1i       | 4.8 MB    | #####3     |  54% \n",
      "openssl-1.1.1i       | 4.8 MB    | #####6     |  57% \n",
      "openssl-1.1.1i       | 4.8 MB    | #####8     |  58% \n",
      "openssl-1.1.1i       | 4.8 MB    | ######     |  61% \n",
      "openssl-1.1.1i       | 4.8 MB    | ######3    |  63% \n",
      "openssl-1.1.1i       | 4.8 MB    | ######5    |  66% \n",
      "openssl-1.1.1i       | 4.8 MB    | ######7    |  68% \n",
      "openssl-1.1.1i       | 4.8 MB    | #######    |  70% \n",
      "openssl-1.1.1i       | 4.8 MB    | #######2   |  72% \n",
      "openssl-1.1.1i       | 4.8 MB    | #######4   |  75% \n",
      "openssl-1.1.1i       | 4.8 MB    | #######6   |  77% \n",
      "openssl-1.1.1i       | 4.8 MB    | #######8   |  79% \n",
      "openssl-1.1.1i       | 4.8 MB    | ########   |  81% \n",
      "openssl-1.1.1i       | 4.8 MB    | ########2  |  82% \n",
      "openssl-1.1.1i       | 4.8 MB    | ########4  |  84% \n",
      "openssl-1.1.1i       | 4.8 MB    | ########6  |  86% \n",
      "openssl-1.1.1i       | 4.8 MB    | ########7  |  88% \n",
      "openssl-1.1.1i       | 4.8 MB    | ########9  |  89% \n",
      "openssl-1.1.1i       | 4.8 MB    | #########1 |  91% \n",
      "openssl-1.1.1i       | 4.8 MB    | #########3 |  93% \n",
      "openssl-1.1.1i       | 4.8 MB    | #########4 |  95% \n",
      "openssl-1.1.1i       | 4.8 MB    | #########6 |  97% \n",
      "openssl-1.1.1i       | 4.8 MB    | #########8 |  98% \n",
      "openssl-1.1.1i       | 4.8 MB    | #########9 | 100% \n",
      "openssl-1.1.1i       | 4.8 MB    | ########## | 100% \n",
      "\n",
      "distributed-2020.12. | 1.1 MB    |            |   0% \n",
      "distributed-2020.12. | 1.1 MB    | 2          |   3% \n",
      "distributed-2020.12. | 1.1 MB    | #1         |  12% \n",
      "distributed-2020.12. | 1.1 MB    | #6         |  16% \n",
      "distributed-2020.12. | 1.1 MB    | ##3        |  24% \n",
      "distributed-2020.12. | 1.1 MB    | ###1       |  31% \n",
      "distributed-2020.12. | 1.1 MB    | ###8       |  39% \n",
      "distributed-2020.12. | 1.1 MB    | ####4      |  45% \n",
      "distributed-2020.12. | 1.1 MB    | #####      |  50% \n",
      "distributed-2020.12. | 1.1 MB    | #####6     |  56% \n",
      "distributed-2020.12. | 1.1 MB    | ######3    |  64% \n",
      "distributed-2020.12. | 1.1 MB    | #######1   |  71% \n",
      "distributed-2020.12. | 1.1 MB    | #######8   |  79% \n",
      "distributed-2020.12. | 1.1 MB    | ########6  |  86% \n",
      "distributed-2020.12. | 1.1 MB    | #########3 |  94% \n",
      "distributed-2020.12. | 1.1 MB    | ########## | 100% \n",
      "distributed-2020.12. | 1.1 MB    | ########## | 100% \n",
      "\n",
      "cryptography-3.3.1   | 610 KB    |            |   0% \n",
      "cryptography-3.3.1   | 610 KB    | 2          |   3% \n",
      "cryptography-3.3.1   | 610 KB    | #          |  10% \n",
      "cryptography-3.3.1   | 610 KB    | #8         |  18% \n",
      "cryptography-3.3.1   | 610 KB    | ##6        |  26% \n",
      "cryptography-3.3.1   | 610 KB    | ###9       |  39% \n",
      "cryptography-3.3.1   | 610 KB    | ####7      |  47% \n",
      "cryptography-3.3.1   | 610 KB    | ######     |  60% \n",
      "cryptography-3.3.1   | 610 KB    | #######6   |  76% \n",
      "cryptography-3.3.1   | 610 KB    | ########6  |  86% \n",
      "cryptography-3.3.1   | 610 KB    | #########6 |  97% \n",
      "cryptography-3.3.1   | 610 KB    | ########## | 100% \n",
      "\n",
      "notebook-6.1.5       | 4.4 MB    |            |   0% \n",
      "notebook-6.1.5       | 4.4 MB    |            |   1% \n",
      "notebook-6.1.5       | 4.4 MB    | 2          |   2% \n",
      "notebook-6.1.5       | 4.4 MB    | 3          |   3% \n",
      "notebook-6.1.5       | 4.4 MB    | 4          |   5% \n",
      "notebook-6.1.5       | 4.4 MB    | 6          |   6% \n",
      "notebook-6.1.5       | 4.4 MB    | 8          |   8% \n",
      "notebook-6.1.5       | 4.4 MB    | 9          |  10% \n",
      "notebook-6.1.5       | 4.4 MB    | #1         |  11% \n",
      "notebook-6.1.5       | 4.4 MB    | #2         |  13% \n",
      "notebook-6.1.5       | 4.4 MB    | #4         |  14% \n",
      "notebook-6.1.5       | 4.4 MB    | #6         |  16% \n",
      "notebook-6.1.5       | 4.4 MB    | #7         |  18% \n",
      "notebook-6.1.5       | 4.4 MB    | #9         |  19% \n",
      "notebook-6.1.5       | 4.4 MB    | ##1        |  21% \n",
      "notebook-6.1.5       | 4.4 MB    | ##2        |  23% \n",
      "notebook-6.1.5       | 4.4 MB    | ##4        |  25% \n",
      "notebook-6.1.5       | 4.4 MB    | ##6        |  26% \n",
      "notebook-6.1.5       | 4.4 MB    | ##7        |  28% \n",
      "notebook-6.1.5       | 4.4 MB    | ##9        |  30% \n",
      "notebook-6.1.5       | 4.4 MB    | ###1       |  31% \n",
      "notebook-6.1.5       | 4.4 MB    | ###3       |  33% \n",
      "notebook-6.1.5       | 4.4 MB    | ###5       |  35% \n",
      "notebook-6.1.5       | 4.4 MB    | ###7       |  37% \n",
      "notebook-6.1.5       | 4.4 MB    | ###8       |  39% \n",
      "notebook-6.1.5       | 4.4 MB    | ####       |  41% \n",
      "notebook-6.1.5       | 4.4 MB    | ####2      |  42% \n",
      "notebook-6.1.5       | 4.4 MB    | ####5      |  45% \n",
      "notebook-6.1.5       | 4.4 MB    | ####7      |  47% \n",
      "notebook-6.1.5       | 4.4 MB    | ####8      |  49% \n",
      "notebook-6.1.5       | 4.4 MB    | #####      |  51% \n",
      "notebook-6.1.5       | 4.4 MB    | #####2     |  52% \n",
      "notebook-6.1.5       | 4.4 MB    | #####4     |  54% \n",
      "notebook-6.1.5       | 4.4 MB    | #####6     |  56% \n",
      "notebook-6.1.5       | 4.4 MB    | #####7     |  58% \n",
      "notebook-6.1.5       | 4.4 MB    | #####9     |  60% \n",
      "notebook-6.1.5       | 4.4 MB    | ######1    |  61% \n",
      "notebook-6.1.5       | 4.4 MB    | ######3    |  63% \n",
      "notebook-6.1.5       | 4.4 MB    | ######4    |  65% \n",
      "notebook-6.1.5       | 4.4 MB    | ######6    |  67% \n",
      "notebook-6.1.5       | 4.4 MB    | ######8    |  69% \n",
      "notebook-6.1.5       | 4.4 MB    | #######    |  70% \n",
      "notebook-6.1.5       | 4.4 MB    | #######1   |  72% \n",
      "notebook-6.1.5       | 4.4 MB    | #######3   |  73% \n",
      "notebook-6.1.5       | 4.4 MB    | #######4   |  75% \n",
      "notebook-6.1.5       | 4.4 MB    | #######6   |  76% \n",
      "notebook-6.1.5       | 4.4 MB    | #######8   |  78% \n",
      "notebook-6.1.5       | 4.4 MB    | #######9   |  80% \n",
      "notebook-6.1.5       | 4.4 MB    | ########1  |  82% \n",
      "notebook-6.1.5       | 4.4 MB    | ########3  |  84% \n",
      "notebook-6.1.5       | 4.4 MB    | ########5  |  86% \n",
      "notebook-6.1.5       | 4.4 MB    | ########7  |  87% \n",
      "notebook-6.1.5       | 4.4 MB    | ########9  |  89% \n",
      "notebook-6.1.5       | 4.4 MB    | #########1 |  91% \n",
      "notebook-6.1.5       | 4.4 MB    | #########2 |  93% \n",
      "notebook-6.1.5       | 4.4 MB    | #########4 |  95% \n",
      "notebook-6.1.5       | 4.4 MB    | #########6 |  96% \n",
      "notebook-6.1.5       | 4.4 MB    | #########7 |  98% \n",
      "notebook-6.1.5       | 4.4 MB    | #########9 | 100% \n",
      "notebook-6.1.5       | 4.4 MB    | ########## | 100% \n",
      "\n",
      "tifffile-2020.12.8   | 127 KB    |            |   0% \n",
      "tifffile-2020.12.8   | 127 KB    | #2         |  13% \n",
      "tifffile-2020.12.8   | 127 KB    | ###7       |  38% \n",
      "tifffile-2020.12.8   | 127 KB    | #######5   |  76% \n",
      "tifffile-2020.12.8   | 127 KB    | ########## | 100% \n",
      "tifffile-2020.12.8   | 127 KB    | ########## | 100% \n",
      "\n",
      "dask-core-2020.12.0  | 632 KB    |            |   0% \n",
      "dask-core-2020.12.0  | 632 KB    | 2          |   3% \n",
      "dask-core-2020.12.0  | 632 KB    | 7          |   8% \n",
      "dask-core-2020.12.0  | 632 KB    | #5         |  15% \n",
      "dask-core-2020.12.0  | 632 KB    | ##2        |  23% \n",
      "dask-core-2020.12.0  | 632 KB    | ###        |  30% \n",
      "dask-core-2020.12.0  | 632 KB    | ####3      |  43% \n",
      "dask-core-2020.12.0  | 632 KB    | #####5     |  56% \n",
      "dask-core-2020.12.0  | 632 KB    | ######5    |  66% \n",
      "dask-core-2020.12.0  | 632 KB    | #######8   |  79% \n",
      "dask-core-2020.12.0  | 632 KB    | #########1 |  91% \n",
      "dask-core-2020.12.0  | 632 KB    | ########## | 100% \n",
      "\n",
      "vs2015_runtime-14.27 | 1007 KB   |            |   0% \n",
      "vs2015_runtime-14.27 | 1007 KB   | 1          |   2% \n",
      "vs2015_runtime-14.27 | 1007 KB   | 9          |  10% \n",
      "vs2015_runtime-14.27 | 1007 KB   | ##         |  21% \n",
      "vs2015_runtime-14.27 | 1007 KB   | ###        |  30% \n",
      "vs2015_runtime-14.27 | 1007 KB   | ###6       |  37% \n",
      "vs2015_runtime-14.27 | 1007 KB   | #####4     |  54% \n",
      "vs2015_runtime-14.27 | 1007 KB   | ######6    |  67% \n",
      "vs2015_runtime-14.27 | 1007 KB   | ########2  |  83% \n",
      "vs2015_runtime-14.27 | 1007 KB   | #########6 |  97% \n",
      "vs2015_runtime-14.27 | 1007 KB   | ########## | 100% \n",
      "\n",
      "msgpack-python-1.0.1 | 76 KB     |            |   0% \n",
      "msgpack-python-1.0.1 | 76 KB     | ####2      |  42% \n",
      "msgpack-python-1.0.1 | 76 KB     | ########## | 100% \n",
      "msgpack-python-1.0.1 | 76 KB     | ########## | 100% \n",
      "\n",
      "jedi-0.17.2          | 921 KB    |            |   0% \n",
      "jedi-0.17.2          | 921 KB    | 3          |   3% \n",
      "jedi-0.17.2          | 921 KB    | #5         |  16% \n",
      "jedi-0.17.2          | 921 KB    | ##6        |  26% \n",
      "jedi-0.17.2          | 921 KB    | ###8       |  38% \n",
      "jedi-0.17.2          | 921 KB    | ####6      |  47% \n",
      "jedi-0.17.2          | 921 KB    | #####5     |  56% \n",
      "jedi-0.17.2          | 921 KB    | ######4    |  64% \n",
      "jedi-0.17.2          | 921 KB    | #######8   |  78% \n",
      "jedi-0.17.2          | 921 KB    | #########  |  90% \n",
      "jedi-0.17.2          | 921 KB    | ########## | 100% \n",
      "jedi-0.17.2          | 921 KB    | ########## | 100% \n",
      "\n",
      "send2trash-1.5.0     | 14 KB     |            |   0% \n",
      "send2trash-1.5.0     | 14 KB     | ########## | 100% \n",
      "send2trash-1.5.0     | 14 KB     | ########## | 100% \n",
      "\n",
      "pyls-black-0.4.6     | 9 KB      |            |   0% \n",
      "pyls-black-0.4.6     | 9 KB      | ########## | 100% \n",
      "pyls-black-0.4.6     | 9 KB      | ########## | 100% \n",
      "\n",
      "wheel-0.36.2         | 33 KB     |            |   0% \n",
      "wheel-0.36.2         | 33 KB     | ####9      |  49% \n",
      "wheel-0.36.2         | 33 KB     | ########## | 100% \n",
      "wheel-0.36.2         | 33 KB     | ########## | 100% \n",
      "\n",
      "mypy_extensions-0.4. | 10 KB     |            |   0% \n",
      "mypy_extensions-0.4. | 10 KB     | ########## | 100% \n",
      "mypy_extensions-0.4. | 10 KB     | ########## | 100% \n",
      "\n",
      "python-language-serv | 41 KB     |            |   0% \n",
      "python-language-serv | 41 KB     | ###8       |  39% \n",
      "python-language-serv | 41 KB     | ########## | 100% \n",
      "python-language-serv | 41 KB     | ########## | 100% \n",
      "\n",
      "three-merge-0.1.1    | 10 KB     |            |   0% \n",
      "three-merge-0.1.1    | 10 KB     | ########## | 100% \n",
      "three-merge-0.1.1    | 10 KB     | ########## | 100% \n",
      "\n",
      "pathspec-0.7.0       | 26 KB     |            |   0% \n",
      "pathspec-0.7.0       | 26 KB     | ######     |  60% \n",
      "pathspec-0.7.0       | 26 KB     | ########## | 100% \n",
      "pathspec-0.7.0       | 26 KB     | ########## | 100% \n",
      "\n",
      "pyls-spyder-0.2.1    | 11 KB     |            |   0% \n",
      "pyls-spyder-0.2.1    | 11 KB     | ########## | 100% \n",
      "pyls-spyder-0.2.1    | 11 KB     | ########## | 100% \n",
      "\n",
      "dask-2020.12.0       | 5 KB      |            |   0% \n",
      "dask-2020.12.0       | 5 KB      | ########## | 100% \n",
      "dask-2020.12.0       | 5 KB      | ########## | 100% \n",
      "\n",
      "mock-4.0.3           | 29 KB     |            |   0% \n",
      "mock-4.0.3           | 29 KB     | #####5     |  56% \n",
      "mock-4.0.3           | 29 KB     | ########## | 100% \n",
      "mock-4.0.3           | 29 KB     | ########## | 100% \n",
      "\n",
      "py-1.10.0            | 76 KB     |            |   0% \n",
      "py-1.10.0            | 76 KB     | ##1        |  21% \n",
      "py-1.10.0            | 76 KB     | ########4  |  84% \n",
      "py-1.10.0            | 76 KB     | ########## | 100% \n",
      "py-1.10.0            | 76 KB     | ########## | 100% \n",
      "\n",
      "tqdm-4.54.1          | 55 KB     |            |   0% \n",
      "tqdm-4.54.1          | 55 KB     | ##9        |  29% \n",
      "tqdm-4.54.1          | 55 KB     | ########## | 100% \n",
      "tqdm-4.54.1          | 55 KB     | ########## | 100% \n",
      "\n",
      "typed-ast-1.4.1      | 143 KB    |            |   0% \n",
      "typed-ast-1.4.1      | 143 KB    | #1         |  11% \n",
      "typed-ast-1.4.1      | 143 KB    | ####4      |  45% \n",
      "typed-ast-1.4.1      | 143 KB    | #######8   |  78% \n",
      "typed-ast-1.4.1      | 143 KB    | ########## | 100% \n",
      "typed-ast-1.4.1      | 143 KB    | ########## | 100% \n",
      "\n",
      "spyder-4.2.0         | 5.7 MB    |            |   0% \n",
      "spyder-4.2.0         | 5.7 MB    |            |   0% \n",
      "spyder-4.2.0         | 5.7 MB    |            |   1% \n",
      "spyder-4.2.0         | 5.7 MB    | 1          |   2% \n",
      "spyder-4.2.0         | 5.7 MB    | 2          |   2% \n",
      "spyder-4.2.0         | 5.7 MB    | 3          |   3% \n",
      "spyder-4.2.0         | 5.7 MB    | 3          |   4% \n",
      "spyder-4.2.0         | 5.7 MB    | 4          |   5% \n",
      "spyder-4.2.0         | 5.7 MB    | 5          |   6% \n",
      "spyder-4.2.0         | 5.7 MB    | 6          |   7% \n",
      "spyder-4.2.0         | 5.7 MB    | 7          |   7% \n",
      "spyder-4.2.0         | 5.7 MB    | 8          |   8% \n",
      "spyder-4.2.0         | 5.7 MB    | 8          |   9% \n",
      "spyder-4.2.0         | 5.7 MB    | 9          |   9% \n",
      "spyder-4.2.0         | 5.7 MB    | 9          |  10% \n",
      "spyder-4.2.0         | 5.7 MB    | #          |  11% \n",
      "spyder-4.2.0         | 5.7 MB    | #1         |  12% \n",
      "spyder-4.2.0         | 5.7 MB    | #2         |  12% \n",
      "spyder-4.2.0         | 5.7 MB    | #3         |  13% \n",
      "spyder-4.2.0         | 5.7 MB    | #5         |  16% \n",
      "spyder-4.2.0         | 5.7 MB    | #6         |  16% \n",
      "spyder-4.2.0         | 5.7 MB    | #7         |  18% \n",
      "spyder-4.2.0         | 5.7 MB    | #8         |  18% \n",
      "spyder-4.2.0         | 5.7 MB    | #9         |  19% \n",
      "spyder-4.2.0         | 5.7 MB    | ##         |  20% \n",
      "spyder-4.2.0         | 5.7 MB    | ##         |  21% \n",
      "spyder-4.2.0         | 5.7 MB    | ##1        |  22% \n",
      "spyder-4.2.0         | 5.7 MB    | ##2        |  22% \n",
      "spyder-4.2.0         | 5.7 MB    | ##3        |  23% \n",
      "spyder-4.2.0         | 5.7 MB    | ##4        |  24% \n",
      "spyder-4.2.0         | 5.7 MB    | ##4        |  25% \n",
      "spyder-4.2.0         | 5.7 MB    | ##6        |  26% \n",
      "spyder-4.2.0         | 5.7 MB    | ##7        |  27% \n",
      "spyder-4.2.0         | 5.7 MB    | ##8        |  29% \n",
      "spyder-4.2.0         | 5.7 MB    | ##9        |  30% \n",
      "spyder-4.2.0         | 5.7 MB    | ###1       |  31% \n",
      "spyder-4.2.0         | 5.7 MB    | ###2       |  33% \n",
      "spyder-4.2.0         | 5.7 MB    | ###5       |  35% \n",
      "spyder-4.2.0         | 5.7 MB    | ###7       |  37% \n",
      "spyder-4.2.0         | 5.7 MB    | ###8       |  39% \n",
      "spyder-4.2.0         | 5.7 MB    | ####1      |  42% \n",
      "spyder-4.2.0         | 5.7 MB    | ####4      |  44% \n",
      "spyder-4.2.0         | 5.7 MB    | ####6      |  46% \n",
      "spyder-4.2.0         | 5.7 MB    | ####9      |  49% \n",
      "spyder-4.2.0         | 5.7 MB    | #####2     |  53% \n",
      "spyder-4.2.0         | 5.7 MB    | #####6     |  57% \n",
      "spyder-4.2.0         | 5.7 MB    | #####9     |  60% \n",
      "spyder-4.2.0         | 5.7 MB    | ######2    |  63% \n",
      "spyder-4.2.0         | 5.7 MB    | ######5    |  66% \n",
      "spyder-4.2.0         | 5.7 MB    | ######8    |  69% \n",
      "spyder-4.2.0         | 5.7 MB    | #######2   |  72% \n",
      "spyder-4.2.0         | 5.7 MB    | #######5   |  75% \n",
      "spyder-4.2.0         | 5.7 MB    | #######7   |  78% \n",
      "spyder-4.2.0         | 5.7 MB    | ########1  |  82% \n",
      "spyder-4.2.0         | 5.7 MB    | ########4  |  84% \n",
      "spyder-4.2.0         | 5.7 MB    | ########7  |  87% \n",
      "spyder-4.2.0         | 5.7 MB    | #########  |  91% \n",
      "spyder-4.2.0         | 5.7 MB    | #########4 |  94% \n",
      "spyder-4.2.0         | 5.7 MB    | #########7 |  97% \n",
      "spyder-4.2.0         | 5.7 MB    | ########## | 100% \n",
      "spyder-4.2.0         | 5.7 MB    | ########## | 100% \n",
      "\n",
      "joblib-1.0.0         | 208 KB    |            |   0% \n",
      "joblib-1.0.0         | 208 KB    | ##3        |  23% \n",
      "joblib-1.0.0         | 208 KB    | ######9    |  69% \n",
      "joblib-1.0.0         | 208 KB    | #########2 |  92% \n",
      "joblib-1.0.0         | 208 KB    | ########## | 100% \n",
      "\n",
      "spyder-kernels-1.10. | 123 KB    |            |   0% \n",
      "spyder-kernels-1.10. | 123 KB    | ######5    |  65% \n",
      "spyder-kernels-1.10. | 123 KB    | ########## | 100% \n",
      "spyder-kernels-1.10. | 123 KB    | ########## | 100% \n",
      "\n",
      "packaging-20.8       | 36 KB     |            |   0% \n",
      "packaging-20.8       | 36 KB     | ########## | 100% \n",
      "packaging-20.8       | 36 KB     | ########## | 100% \n",
      "\n",
      "soupsieve-2.1        | 31 KB     |            |   0% \n",
      "soupsieve-2.1        | 31 KB     | ########## | 100% \n",
      "soupsieve-2.1        | 31 KB     | ########## | 100% \n",
      "Preparing transaction: ...working... done\n",
      "Verifying transaction: ...working... done\n",
      "Executing transaction: ...working... done\n",
      "Collecting package metadata (current_repodata.json): ...working... done\n",
      "Solving environment: ...working... done\n",
      "\n",
      "## Package Plan ##\n",
      "\n",
      "  environment location: C:\\Users\\Vimal\\anaconda3\n",
      "\n",
      "  added / updated specs:\n",
      "    - pip\n",
      "\n",
      "\n",
      "The following packages will be downloaded:\n",
      "\n",
      "    package                    |            build\n",
      "    ---------------------------|-----------------\n",
      "    pip-20.3.1                 |   py38haa95532_0         1.8 MB\n",
      "    ------------------------------------------------------------\n",
      "                                           Total:         1.8 MB\n",
      "\n",
      "The following packages will be UPDATED:\n",
      "\n",
      "  pip                                   20.3-py38haa95532_0 --> 20.3.1-py38haa95532_0\n",
      "\n",
      "\n",
      "\n",
      "Downloading and Extracting Packages\n",
      "\n",
      "pip-20.3.1           | 1.8 MB    |            |   0% \n",
      "pip-20.3.1           | 1.8 MB    |            |   1% \n",
      "pip-20.3.1           | 1.8 MB    | 6          |   6% \n",
      "pip-20.3.1           | 1.8 MB    | 7          |   8% \n",
      "pip-20.3.1           | 1.8 MB    | #1         |  11% \n",
      "pip-20.3.1           | 1.8 MB    | #5         |  15% \n",
      "pip-20.3.1           | 1.8 MB    | #9         |  19% \n",
      "pip-20.3.1           | 1.8 MB    | ##3        |  24% \n",
      "pip-20.3.1           | 1.8 MB    | ##9        |  29% \n",
      "pip-20.3.1           | 1.8 MB    | ###3       |  34% \n",
      "pip-20.3.1           | 1.8 MB    | ###8       |  39% \n",
      "pip-20.3.1           | 1.8 MB    | ####5      |  46% \n",
      "pip-20.3.1           | 1.8 MB    | #####1     |  51% \n",
      "pip-20.3.1           | 1.8 MB    | #####6     |  57% \n",
      "pip-20.3.1           | 1.8 MB    | ######1    |  62% \n",
      "pip-20.3.1           | 1.8 MB    | ######6    |  66% \n",
      "pip-20.3.1           | 1.8 MB    | #######    |  71% \n",
      "pip-20.3.1           | 1.8 MB    | #######5   |  75% \n",
      "pip-20.3.1           | 1.8 MB    | #######8   |  79% \n",
      "pip-20.3.1           | 1.8 MB    | ########3  |  84% \n",
      "pip-20.3.1           | 1.8 MB    | ########8  |  88% \n",
      "pip-20.3.1           | 1.8 MB    | #########5 |  95% \n",
      "pip-20.3.1           | 1.8 MB    | #########9 | 100% \n",
      "pip-20.3.1           | 1.8 MB    | ########## | 100% \n",
      "Preparing transaction: ...working... done\n",
      "Verifying transaction: ...working... done\n",
      "Executing transaction: ...working... done\n",
      "\n",
      "Note: you may need to restart the kernel to use updated packages.\n"
     ]
    }
   ],
   "source": [
    "# Installing pip\n",
    "conda install pip"
   ]
  },
  {
   "cell_type": "code",
   "execution_count": 3,
   "metadata": {},
   "outputs": [
    {
     "name": "stdout",
     "output_type": "stream",
     "text": [
      "Requirement already satisfied: tensorflow in c:\\users\\vimal\\anaconda3\\lib\\site-packages (2.3.1)\n",
      "Requirement already satisfied: termcolor>=1.1.0 in c:\\users\\vimal\\anaconda3\\lib\\site-packages (from tensorflow) (1.1.0)\n",
      "Requirement already satisfied: tensorboard<3,>=2.3.0 in c:\\users\\vimal\\anaconda3\\lib\\site-packages (from tensorflow) (2.4.0)\n",
      "Requirement already satisfied: google-pasta>=0.1.8 in c:\\users\\vimal\\anaconda3\\lib\\site-packages (from tensorflow) (0.2.0)\n",
      "Requirement already satisfied: wrapt>=1.11.1 in c:\\users\\vimal\\anaconda3\\lib\\site-packages (from tensorflow) (1.11.2)\n",
      "Requirement already satisfied: grpcio>=1.8.6 in c:\\users\\vimal\\anaconda3\\lib\\site-packages (from tensorflow) (1.33.2)\n",
      "Requirement already satisfied: absl-py>=0.7.0 in c:\\users\\vimal\\anaconda3\\lib\\site-packages (from tensorflow) (0.11.0)\n",
      "Requirement already satisfied: tensorflow-estimator<2.4.0,>=2.3.0 in c:\\users\\vimal\\anaconda3\\lib\\site-packages (from tensorflow) (2.3.0)\n",
      "Requirement already satisfied: h5py<2.11.0,>=2.10.0 in c:\\users\\vimal\\anaconda3\\lib\\site-packages (from tensorflow) (2.10.0)\n",
      "Requirement already satisfied: astunparse==1.6.3 in c:\\users\\vimal\\anaconda3\\lib\\site-packages (from tensorflow) (1.6.3)\n",
      "Requirement already satisfied: keras-preprocessing<1.2,>=1.1.1 in c:\\users\\vimal\\anaconda3\\lib\\site-packages (from tensorflow) (1.1.2)\n",
      "Requirement already satisfied: numpy<1.19.0,>=1.16.0 in c:\\users\\vimal\\anaconda3\\lib\\site-packages (from tensorflow) (1.18.5)\n",
      "Requirement already satisfied: opt-einsum>=2.3.2 in c:\\users\\vimal\\anaconda3\\lib\\site-packages (from tensorflow) (3.3.0)\n",
      "Requirement already satisfied: wheel>=0.26 in c:\\users\\vimal\\anaconda3\\lib\\site-packages (from tensorflow) (0.36.2)\n",
      "Requirement already satisfied: gast==0.3.3 in c:\\users\\vimal\\anaconda3\\lib\\site-packages (from tensorflow) (0.3.3)\n",
      "Requirement already satisfied: protobuf>=3.9.2 in c:\\users\\vimal\\anaconda3\\lib\\site-packages (from tensorflow) (3.14.0)\n",
      "Requirement already satisfied: six>=1.12.0 in c:\\users\\vimal\\anaconda3\\lib\\site-packages (from tensorflow) (1.15.0)\n",
      "Requirement already satisfied: six>=1.12.0 in c:\\users\\vimal\\anaconda3\\lib\\site-packages (from tensorflow) (1.15.0)\n",
      "Requirement already satisfied: six>=1.12.0 in c:\\users\\vimal\\anaconda3\\lib\\site-packages (from tensorflow) (1.15.0)\n",
      "Requirement already satisfied: wheel>=0.26 in c:\\users\\vimal\\anaconda3\\lib\\site-packages (from tensorflow) (0.36.2)\n",
      "Requirement already satisfied: six>=1.12.0 in c:\\users\\vimal\\anaconda3\\lib\\site-packages (from tensorflow) (1.15.0)\n",
      "Requirement already satisfied: six>=1.12.0 in c:\\users\\vimal\\anaconda3\\lib\\site-packages (from tensorflow) (1.15.0)\n",
      "Requirement already satisfied: six>=1.12.0 in c:\\users\\vimal\\anaconda3\\lib\\site-packages (from tensorflow) (1.15.0)\n",
      "Requirement already satisfied: numpy<1.19.0,>=1.16.0 in c:\\users\\vimal\\anaconda3\\lib\\site-packages (from tensorflow) (1.18.5)\n",
      "Requirement already satisfied: numpy<1.19.0,>=1.16.0 in c:\\users\\vimal\\anaconda3\\lib\\site-packages (from tensorflow) (1.18.5)\n",
      "Requirement already satisfied: six>=1.12.0 in c:\\users\\vimal\\anaconda3\\lib\\site-packages (from tensorflow) (1.15.0)\n",
      "Requirement already satisfied: numpy<1.19.0,>=1.16.0 in c:\\users\\vimal\\anaconda3\\lib\\site-packages (from tensorflow) (1.18.5)\n",
      "Requirement already satisfied: six>=1.12.0 in c:\\users\\vimal\\anaconda3\\lib\\site-packages (from tensorflow) (1.15.0)\n",
      "Requirement already satisfied: grpcio>=1.8.6 in c:\\users\\vimal\\anaconda3\\lib\\site-packages (from tensorflow) (1.33.2)\n",
      "Requirement already satisfied: protobuf>=3.9.2 in c:\\users\\vimal\\anaconda3\\lib\\site-packages (from tensorflow) (3.14.0)\n",
      "Requirement already satisfied: requests<3,>=2.21.0 in c:\\users\\vimal\\anaconda3\\lib\\site-packages (from tensorboard<3,>=2.3.0->tensorflow) (2.25.0)\n",
      "Requirement already satisfied: google-auth-oauthlib<0.5,>=0.4.1 in c:\\users\\vimal\\anaconda3\\lib\\site-packages (from tensorboard<3,>=2.3.0->tensorflow) (0.4.2)\n",
      "Requirement already satisfied: wheel>=0.26 in c:\\users\\vimal\\anaconda3\\lib\\site-packages (from tensorflow) (0.36.2)\n",
      "Requirement already satisfied: setuptools>=41.0.0 in c:\\users\\vimal\\anaconda3\\lib\\site-packages (from tensorboard<3,>=2.3.0->tensorflow) (51.0.0.post20201207)\n",
      "Requirement already satisfied: tensorboard-plugin-wit>=1.6.0 in c:\\users\\vimal\\anaconda3\\lib\\site-packages (from tensorboard<3,>=2.3.0->tensorflow) (1.7.0)\n",
      "Requirement already satisfied: markdown>=2.6.8 in c:\\users\\vimal\\anaconda3\\lib\\site-packages (from tensorboard<3,>=2.3.0->tensorflow) (3.3.3)\n",
      "Requirement already satisfied: six>=1.12.0 in c:\\users\\vimal\\anaconda3\\lib\\site-packages (from tensorflow) (1.15.0)\n",
      "Requirement already satisfied: numpy<1.19.0,>=1.16.0 in c:\\users\\vimal\\anaconda3\\lib\\site-packages (from tensorflow) (1.18.5)\n",
      "Requirement already satisfied: absl-py>=0.7.0 in c:\\users\\vimal\\anaconda3\\lib\\site-packages (from tensorflow) (0.11.0)\n",
      "Requirement already satisfied: werkzeug>=0.11.15 in c:\\users\\vimal\\anaconda3\\lib\\site-packages (from tensorboard<3,>=2.3.0->tensorflow) (1.0.1)\n",
      "Requirement already satisfied: google-auth<2,>=1.6.3 in c:\\users\\vimal\\anaconda3\\lib\\site-packages (from tensorboard<3,>=2.3.0->tensorflow) (1.23.0)\n",
      "Requirement already satisfied: six>=1.12.0 in c:\\users\\vimal\\anaconda3\\lib\\site-packages (from tensorflow) (1.15.0)\n",
      "Requirement already satisfied: cachetools<5.0,>=2.0.0 in c:\\users\\vimal\\anaconda3\\lib\\site-packages (from google-auth<2,>=1.6.3->tensorboard<3,>=2.3.0->tensorflow) (4.1.1)\n",
      "Requirement already satisfied: pyasn1-modules>=0.2.1 in c:\\users\\vimal\\anaconda3\\lib\\site-packages (from google-auth<2,>=1.6.3->tensorboard<3,>=2.3.0->tensorflow) (0.2.8)\n",
      "Requirement already satisfied: setuptools>=41.0.0 in c:\\users\\vimal\\anaconda3\\lib\\site-packages (from tensorboard<3,>=2.3.0->tensorflow) (51.0.0.post20201207)\n",
      "Requirement already satisfied: rsa<5,>=3.1.4 in c:\\users\\vimal\\anaconda3\\lib\\site-packages (from google-auth<2,>=1.6.3->tensorboard<3,>=2.3.0->tensorflow) (4.6)\n",
      "Requirement already satisfied: google-auth<2,>=1.6.3 in c:\\users\\vimal\\anaconda3\\lib\\site-packages (from tensorboard<3,>=2.3.0->tensorflow) (1.23.0)\n",
      "Requirement already satisfied: requests-oauthlib>=0.7.0 in c:\\users\\vimal\\anaconda3\\lib\\site-packages (from google-auth-oauthlib<0.5,>=0.4.1->tensorboard<3,>=2.3.0->tensorflow) (1.3.0)\n",
      "Requirement already satisfied: pyasn1<0.5.0,>=0.4.6 in c:\\users\\vimal\\anaconda3\\lib\\site-packages (from pyasn1-modules>=0.2.1->google-auth<2,>=1.6.3->tensorboard<3,>=2.3.0->tensorflow) (0.4.8)\n",
      "Requirement already satisfied: certifi>=2017.4.17 in c:\\users\\vimal\\anaconda3\\lib\\site-packages (from requests<3,>=2.21.0->tensorboard<3,>=2.3.0->tensorflow) (2020.12.5)\n",
      "Requirement already satisfied: chardet<4,>=3.0.2 in c:\\users\\vimal\\anaconda3\\lib\\site-packages (from requests<3,>=2.21.0->tensorboard<3,>=2.3.0->tensorflow) (3.0.4)\n",
      "Requirement already satisfied: urllib3<1.27,>=1.21.1 in c:\\users\\vimal\\anaconda3\\lib\\site-packages (from requests<3,>=2.21.0->tensorboard<3,>=2.3.0->tensorflow) (1.25.11)\n",
      "Requirement already satisfied: idna<3,>=2.5 in c:\\users\\vimal\\anaconda3\\lib\\site-packages (from requests<3,>=2.21.0->tensorboard<3,>=2.3.0->tensorflow) (2.10)\n",
      "Requirement already satisfied: requests<3,>=2.21.0 in c:\\users\\vimal\\anaconda3\\lib\\site-packages (from tensorboard<3,>=2.3.0->tensorflow) (2.25.0)\n",
      "Requirement already satisfied: oauthlib>=3.0.0 in c:\\users\\vimal\\anaconda3\\lib\\site-packages (from requests-oauthlib>=0.7.0->google-auth-oauthlib<0.5,>=0.4.1->tensorboard<3,>=2.3.0->tensorflow) (3.1.0)\n",
      "Requirement already satisfied: pyasn1<0.5.0,>=0.4.6 in c:\\users\\vimal\\anaconda3\\lib\\site-packages (from pyasn1-modules>=0.2.1->google-auth<2,>=1.6.3->tensorboard<3,>=2.3.0->tensorflow) (0.4.8)\n",
      "Note: you may need to restart the kernel to use updated packages.\n"
     ]
    }
   ],
   "source": [
    "#Installing tensorflow\n",
    "pip install tensorflow"
   ]
  },
  {
   "cell_type": "markdown",
   "metadata": {},
   "source": [
    "# VGG16 Model with Feature Extraction"
   ]
  },
  {
   "cell_type": "markdown",
   "metadata": {},
   "source": [
    "# Preprocessing"
   ]
  },
  {
   "cell_type": "code",
   "execution_count": 2,
   "metadata": {},
   "outputs": [],
   "source": [
    "#Importing Keras\n",
    "from tensorflow import keras \n",
    "import warnings\n",
    "warnings.filterwarnings('ignore')"
   ]
  },
  {
   "cell_type": "code",
   "execution_count": 3,
   "metadata": {},
   "outputs": [],
   "source": [
    "#Importing Libraries\n",
    "from sklearn.model_selection import train_test_split\n",
    "from sklearn.preprocessing import LabelEncoder, StandardScaler\n",
    "import tensorflow as tf \n",
    "from tensorflow.keras.preprocessing.image import ImageDataGenerator \n",
    "from tensorflow.keras import layers \n",
    "from tensorflow.keras import Model \n",
    "from sklearn.metrics import confusion_matrix, make_scorer, accuracy_score, classification_report\n",
    "from tensorflow.keras import models\n",
    "from tensorflow.keras import layers\n",
    "from tensorflow.keras import models\n",
    "from tensorflow.keras import losses\n",
    "from tensorflow.keras import optimizers\n",
    "import matplotlib.pyplot as plt"
   ]
  },
  {
   "cell_type": "code",
   "execution_count": 17,
   "metadata": {},
   "outputs": [],
   "source": [
    "# Importing VGG16 model\n",
    "from tensorflow.keras.applications.vgg16 import VGG16"
   ]
  },
  {
   "cell_type": "code",
   "execution_count": 16,
   "metadata": {},
   "outputs": [
    {
     "data": {
      "image/png": "[encoded data removed]",
      "text/plain": [
       "<PIL.Image.Image image mode=RGB size=224x224 at 0x2C6F6188D60>"
      ]
     },
     "metadata": {},
     "output_type": "display_data"
    }
   ],
   "source": [
    "# Displaying image from the dataset\n",
    "from tensorflow.keras.preprocessing import image\n",
    "from tensorflow.keras.applications.vgg16 import preprocess_input,decode_predictions\n",
    "import numpy as np\n",
    "\n",
    "img_path = 'C:/Users/Vimal/Desktop/saumya/Weather4Class/train/cloudy/35096.jpg'\n",
    "img = image.load_img(img_path,color_mode='rgb', target_size=(224, 224))\n",
    "display(img)"
   ]
  },
  {
   "cell_type": "code",
   "execution_count": 6,
   "metadata": {},
   "outputs": [],
   "source": [
    "#Defining train and test datagenerator\n",
    "train_datagen = ImageDataGenerator(rescale = 1./255.)\n",
    "\n",
    "test_datagen = ImageDataGenerator( rescale = 1.0/255. )"
   ]
  },
  {
   "cell_type": "markdown",
   "metadata": {},
   "source": [
    "# Data Loading"
   ]
  },
  {
   "cell_type": "code",
   "execution_count": 7,
   "metadata": {},
   "outputs": [
    {
     "name": "stdout",
     "output_type": "stream",
     "text": [
      "Found 4737 images belonging to 4 classes.\n"
     ]
    }
   ],
   "source": [
    "# Loading the training set and resizing the images to 240*240\n",
    "train_generator = train_datagen.flow_from_directory('C:/Users/Vimal/Desktop/saumya/Weather4Class/train', batch_size = 32, class_mode='categorical', target_size=(240,240))"
   ]
  },
  {
   "cell_type": "code",
   "execution_count": 8,
   "metadata": {},
   "outputs": [
    {
     "name": "stdout",
     "output_type": "stream",
     "text": [
      "Found 947 images belonging to 4 classes.\n"
     ]
    }
   ],
   "source": [
    "# Loading the validation set and resizing the images to 240*240\n",
    "validation_generator = test_datagen.flow_from_directory('C:/Users/Vimal/Desktop/saumya/Weather4Class/validation', batch_size = 8, class_mode='categorical', target_size=(240,240))"
   ]
  },
  {
   "cell_type": "code",
   "execution_count": 9,
   "metadata": {
    "scrolled": false
   },
   "outputs": [
    {
     "data": {
      "text/plain": [
       "{'cloudy': 0, 'rain': 1, 'snow': 2, 'sunny': 3}"
      ]
     },
     "execution_count": 9,
     "metadata": {},
     "output_type": "execute_result"
    }
   ],
   "source": [
    "# Number of classes in the training set\n",
    "train_generator.class_indices"
   ]
  },
  {
   "cell_type": "code",
   "execution_count": 10,
   "metadata": {},
   "outputs": [
    {
     "name": "stdout",
     "output_type": "stream",
     "text": [
      "Found 631 images belonging to 4 classes.\n"
     ]
    }
   ],
   "source": [
    "# Loading the tets set and resizing the images to 240*240\n",
    "test_generator = test_datagen.flow_from_directory('C:/Users/Vimal/Desktop/saumya/Weather4Class/test', batch_size = 631, class_mode='categorical', target_size=(240,240))"
   ]
  },
  {
   "cell_type": "code",
   "execution_count": 11,
   "metadata": {},
   "outputs": [
    {
     "name": "stdout",
     "output_type": "stream",
     "text": [
      "(631, 240, 240, 3)\n",
      "(631, 4)\n"
     ]
    }
   ],
   "source": [
    "# Splitting the test set into X_test set and Y_test set and displaying the shape\n",
    "X_test, Y_test = next(test_generator)\n",
    "print(X_test.shape)\n",
    "print(Y_test.shape)"
   ]
  },
  {
   "cell_type": "code",
   "execution_count": 12,
   "metadata": {},
   "outputs": [],
   "source": [
    "# Setting the batch_size\n",
    "batch_size = 32"
   ]
  },
  {
   "cell_type": "code",
   "execution_count": 22,
   "metadata": {},
   "outputs": [],
   "source": [
    "# Defining the train, test and validation directories\n",
    "test_dir ='C:/Users/Vimal/Desktop/saumya/Weather4Class/test'\n",
    "train_dir = 'C:/Users/Vimal/Desktop/saumya/Weather4Class/train'\n",
    "validation_dir = 'C:/Users/Vimal/Desktop/saumya/Weather4Class/validation'"
   ]
  },
  {
   "cell_type": "code",
   "execution_count": 19,
   "metadata": {},
   "outputs": [
    {
     "name": "stdout",
     "output_type": "stream",
     "text": [
      "Model: \"vgg16\"\n",
      "_________________________________________________________________\n",
      "Layer (type)                 Output Shape              Param #   \n",
      "=================================================================\n",
      "input_2 (InputLayer)         [(None, 240, 240, 3)]     0         \n",
      "_________________________________________________________________\n",
      "block1_conv1 (Conv2D)        (None, 240, 240, 64)      1792      \n",
      "_________________________________________________________________\n",
      "block1_conv2 (Conv2D)        (None, 240, 240, 64)      36928     \n",
      "_________________________________________________________________\n",
      "block1_pool (MaxPooling2D)   (None, 120, 120, 64)      0         \n",
      "_________________________________________________________________\n",
      "block2_conv1 (Conv2D)        (None, 120, 120, 128)     73856     \n",
      "_________________________________________________________________\n",
      "block2_conv2 (Conv2D)        (None, 120, 120, 128)     147584    \n",
      "_________________________________________________________________\n",
      "block2_pool (MaxPooling2D)   (None, 60, 60, 128)       0         \n",
      "_________________________________________________________________\n",
      "block3_conv1 (Conv2D)        (None, 60, 60, 256)       295168    \n",
      "_________________________________________________________________\n",
      "block3_conv2 (Conv2D)        (None, 60, 60, 256)       590080    \n",
      "_________________________________________________________________\n",
      "block3_conv3 (Conv2D)        (None, 60, 60, 256)       590080    \n",
      "_________________________________________________________________\n",
      "block3_pool (MaxPooling2D)   (None, 30, 30, 256)       0         \n",
      "_________________________________________________________________\n",
      "block4_conv1 (Conv2D)        (None, 30, 30, 512)       1180160   \n",
      "_________________________________________________________________\n",
      "block4_conv2 (Conv2D)        (None, 30, 30, 512)       2359808   \n",
      "_________________________________________________________________\n",
      "block4_conv3 (Conv2D)        (None, 30, 30, 512)       2359808   \n",
      "_________________________________________________________________\n",
      "block4_pool (MaxPooling2D)   (None, 15, 15, 512)       0         \n",
      "_________________________________________________________________\n",
      "block5_conv1 (Conv2D)        (None, 15, 15, 512)       2359808   \n",
      "_________________________________________________________________\n",
      "block5_conv2 (Conv2D)        (None, 15, 15, 512)       2359808   \n",
      "_________________________________________________________________\n",
      "block5_conv3 (Conv2D)        (None, 15, 15, 512)       2359808   \n",
      "_________________________________________________________________\n",
      "block5_pool (MaxPooling2D)   (None, 7, 7, 512)         0         \n",
      "=================================================================\n",
      "Total params: 14,714,688\n",
      "Trainable params: 14,714,688\n",
      "Non-trainable params: 0\n",
      "_________________________________________________________________\n",
      "Conv_Base Summary\n"
     ]
    }
   ],
   "source": [
    "# Defining the base model\n",
    "conv_base = VGG16(weights='imagenet', include_top=False, input_shape= \n",
    "(240, 240, 3))\n",
    "\n",
    "# Displaying the model architecture\n",
    "conv_base.summary()\n",
    "\n",
    "print('Conv_Base Summary');"
   ]
  },
  {
   "cell_type": "markdown",
   "metadata": {},
   "source": [
    "# Defining the Feature Extraction method"
   ]
  },
  {
   "cell_type": "code",
   "execution_count": 27,
   "metadata": {},
   "outputs": [],
   "source": [
    "# Defining the Feature Extraction method\n",
    "def extract_features(directory, sample_count):\n",
    "    features = np.zeros(shape=(sample_count, 7, 7, 512))\n",
    "    labels = np.zeros(shape=(sample_count, 4))\n",
    "\n",
    "    generator = ImageDataGenerator(rescale=1./255).flow_from_directory(directory,\n",
    "        target_size=(240, 240),\n",
    "        batch_size = batch_size, \n",
    "        class_mode='categorical')\n",
    "\n",
    "    i = 0\n",
    "\n",
    "    print('Entering for loop...');\n",
    "\n",
    "    \n",
    "    for inputs_batch, labels_batch in generator:\n",
    "        features_batch = conv_base.predict(inputs_batch)\n",
    "        features[i * batch_size : (i + 1) * batch_size] = features_batch\n",
    "        labels[i * batch_size : (i + 1) * batch_size] = labels_batch\n",
    "        i += 1\n",
    "        if i * batch_size >= sample_count:\n",
    "            break\n",
    "    return features, labels"
   ]
  },
  {
   "cell_type": "code",
   "execution_count": 28,
   "metadata": {},
   "outputs": [
    {
     "name": "stdout",
     "output_type": "stream",
     "text": [
      "Found 4737 images belonging to 4 classes.\n",
      "Entering for loop...\n",
      "Found 947 images belonging to 4 classes.\n",
      "Entering for loop...\n",
      "Found 631 images belonging to 4 classes.\n",
      "Entering for loop...\n"
     ]
    }
   ],
   "source": [
    "# Now extracting the features from the train, test and validation directories \n",
    "train_features, train_labels = extract_features(train_dir, 4737)\n",
    "validation_features, validation_labels = extract_features(validation_dir, 947)\n",
    "test_features, test_labels = extract_features(test_dir, 631)"
   ]
  },
  {
   "cell_type": "code",
   "execution_count": 29,
   "metadata": {},
   "outputs": [
    {
     "name": "stdout",
     "output_type": "stream",
     "text": [
      "Reshaping Features\n"
     ]
    }
   ],
   "source": [
    "# Reshaping the extracted features\n",
    "train_features = np.reshape(train_features, (4737, 7 * 7 * 512))\n",
    "validation_features = np.reshape(validation_features, (947, 7 * 7 * 512))\n",
    "test_features = np.reshape(test_features, (631, 7 * 7 * 512))\n",
    "\n",
    "print('Reshaping Features');"
   ]
  },
  {
   "cell_type": "markdown",
   "metadata": {},
   "source": [
    "# Training the Model"
   ]
  },
  {
   "cell_type": "code",
   "execution_count": 58,
   "metadata": {},
   "outputs": [
    {
     "name": "stdout",
     "output_type": "stream",
     "text": [
      "Model: \"sequential_2\"\n",
      "_________________________________________________________________\n",
      "Layer (type)                 Output Shape              Param #   \n",
      "=================================================================\n",
      "dense_4 (Dense)              (None, 512)               12845568  \n",
      "_________________________________________________________________\n",
      "dropout_2 (Dropout)          (None, 512)               0         \n",
      "_________________________________________________________________\n",
      "dense_5 (Dense)              (None, 4)                 2052      \n",
      "=================================================================\n",
      "Total params: 12,847,620\n",
      "Trainable params: 12,847,620\n",
      "Non-trainable params: 0\n",
      "_________________________________________________________________\n",
      "Model Summary\n",
      "Compiling Model\n",
      "Epoch 1/10\n",
      "32/32 [==============================] - 6s 185ms/step - loss: 1.6849 - acc: 0.3594 - val_loss: 1.1068 - val_acc: 0.5048\n",
      "Epoch 2/10\n",
      "32/32 [==============================] - 5s 169ms/step - loss: 1.1851 - acc: 0.4717 - val_loss: 1.0276 - val_acc: 0.5586\n",
      "Epoch 3/10\n",
      "32/32 [==============================] - 5s 169ms/step - loss: 1.1240 - acc: 0.5195 - val_loss: 1.0805 - val_acc: 0.5322\n",
      "Epoch 4/10\n",
      "32/32 [==============================] - 5s 168ms/step - loss: 1.0351 - acc: 0.5586 - val_loss: 0.8744 - val_acc: 0.6484\n",
      "Epoch 5/10\n",
      "32/32 [==============================] - 5s 168ms/step - loss: 0.9719 - acc: 0.5932 - val_loss: 0.9749 - val_acc: 0.6040\n",
      "Epoch 6/10\n",
      "32/32 [==============================] - 5s 168ms/step - loss: 0.8511 - acc: 0.6592 - val_loss: 1.0205 - val_acc: 0.6030\n",
      "Epoch 7/10\n",
      "32/32 [==============================] - 5s 168ms/step - loss: 0.8704 - acc: 0.6602 - val_loss: 0.8734 - val_acc: 0.6431\n",
      "Epoch 8/10\n",
      "32/32 [==============================] - 6s 173ms/step - loss: 0.8077 - acc: 0.6807 - val_loss: 0.8511 - val_acc: 0.6441\n",
      "Epoch 9/10\n",
      "32/32 [==============================] - 5s 170ms/step - loss: 0.8100 - acc: 0.6816 - val_loss: 0.9299 - val_acc: 0.6051\n",
      "Epoch 10/10\n",
      "32/32 [==============================] - 5s 169ms/step - loss: 0.7163 - acc: 0.7200 - val_loss: 0.8838 - val_acc: 0.6367\n",
      "Fitting Model\n"
     ]
    }
   ],
   "source": [
    "# Defining the layers of the model and fitting the reshaped extracted features\n",
    "\n",
    "model = models.Sequential()\n",
    "model.add(layers.Dense(512, activation='relu', input_dim=7 * 7 * 512))\n",
    "model.add(layers.Dropout(0.2))\n",
    "model.add(layers.Dense(4, activation='softmax'))\n",
    "\n",
    "model.summary()\n",
    "\n",
    "print('Model Summary');\n",
    "\n",
    "# Compiling the model\n",
    "\n",
    "model.compile(optimizer=optimizers.RMSprop(lr=1e-4),\n",
    "              loss=losses.categorical_crossentropy,\n",
    "              metrics=['acc'])\n",
    "\n",
    "print('Compiling Model');\n",
    "\n",
    "hist = model.fit(train_features, train_labels,\n",
    "                 steps_per_epoch = 32,\n",
    "                 epochs = 10,\n",
    "                 batch_size = 32,\n",
    "                 verbose = 1,\n",
    "                 validation_data = (validation_features, validation_labels))\n",
    "\n",
    "print('Fitting Model');\n",
    "\n"
   ]
  },
  {
   "cell_type": "markdown",
   "metadata": {},
   "source": [
    "# Saving the model"
   ]
  },
  {
   "cell_type": "code",
   "execution_count": 59,
   "metadata": {},
   "outputs": [],
   "source": [
    "# Saving the model trained using model.save function\n",
    "\n",
    "model.save('C://Users//Vimal//Desktop//saumya//VGG16_model_withfeaturextraction.h5')"
   ]
  },
  {
   "cell_type": "markdown",
   "metadata": {},
   "source": [
    "# Plotting the Training vs Validation graph of Accuracy and Loss"
   ]
  },
  {
   "cell_type": "code",
   "execution_count": 66,
   "metadata": {},
   "outputs": [
    {
     "data": {
      "image/png": "[encoded data removed]",
      "text/plain": [
       "<Figure size 504x360 with 1 Axes>"
      ]
     },
     "metadata": {
      "needs_background": "light"
     },
     "output_type": "display_data"
    },
    {
     "data": {
      "image/png": "[encoded data removed]",
      "text/plain": [
       "<Figure size 560x400 with 1 Axes>"
      ]
     },
     "metadata": {},
     "output_type": "display_data"
    }
   ],
   "source": [
    "#Plotting the Training vs Validation graph of Accuracy and Loss\n",
    "\n",
    "train_loss=hist.history['loss']\n",
    "val_loss=hist.history['val_loss']\n",
    "train_acc=hist.history['acc']\n",
    "val_acc=hist.history['val_acc']\n",
    "xc=range(num_epochs)\n",
    "\n",
    "fig1=plt.figure(1,figsize=(7,5))\n",
    "plt.plot(xc,train_loss)\n",
    "plt.plot(xc,val_loss)\n",
    "plt.xlabel('Number of Epochs')\n",
    "plt.ylabel('Loss')\n",
    "plt.title('Training Loss Vs. Validation Loss')\n",
    "plt.grid(True)\n",
    "plt.legend(['Training', 'Validation'])\n",
    "plt.style.use(['classic'])\n",
    "fig1.savefig('loss.png')\n",
    "\n",
    "fig2=plt.figure(2,figsize=(7,5))\n",
    "plt.plot(xc,train_acc)\n",
    "plt.plot(xc,val_acc)\n",
    "plt.xlabel('Number of Epochs')\n",
    "plt.ylabel('Accuracy')\n",
    "plt.title('Training Accuracy Vs. Validation Accuracy')\n",
    "plt.grid(True)\n",
    "plt.legend(['Training', 'Validation'], loc='upper left')\n",
    "plt.style.use(['classic'])\n",
    "fig2.savefig('acc.png')\n",
    "\n",
    "model.save('VGG16_model_withfeaturextraction.h5') # Save model"
   ]
  },
  {
   "cell_type": "markdown",
   "metadata": {},
   "source": [
    "# Loading the saved model"
   ]
  },
  {
   "cell_type": "code",
   "execution_count": 25,
   "metadata": {},
   "outputs": [
    {
     "name": "stdout",
     "output_type": "stream",
     "text": [
      "Model: \"sequential_2\"\n",
      "_________________________________________________________________\n",
      "Layer (type)                 Output Shape              Param #   \n",
      "=================================================================\n",
      "dense_4 (Dense)              (None, 512)               12845568  \n",
      "_________________________________________________________________\n",
      "dropout_2 (Dropout)          (None, 512)               0         \n",
      "_________________________________________________________________\n",
      "dense_5 (Dense)              (None, 4)                 2052      \n",
      "=================================================================\n",
      "Total params: 12,847,620\n",
      "Trainable params: 12,847,620\n",
      "Non-trainable params: 0\n",
      "_________________________________________________________________\n"
     ]
    }
   ],
   "source": [
    "# Loading the saved model using models.load_model function\n",
    "add_model = tf.keras.models.load_model('C://Users//Vimal//Desktop//saumya//VGG16_model_withfeaturextraction.h5')\n",
    "\n",
    "# Checking its architecture\n",
    "add_model.summary()"
   ]
  },
  {
   "cell_type": "markdown",
   "metadata": {},
   "source": [
    "# Evaluation"
   ]
  },
  {
   "cell_type": "code",
   "execution_count": 30,
   "metadata": {},
   "outputs": [
    {
     "name": "stdout",
     "output_type": "stream",
     "text": [
      "149/149 [==============================] - 2s 12ms/step - loss: 0.6164 - acc: 0.7777\n",
      "Training Loss:  0.6163789629936218\n",
      "Traning Accuracy: 0.7777073979377747\n"
     ]
    }
   ],
   "source": [
    "# Evaluating the model Training Loss and Accuracy\n",
    "(eval_loss, eval_accuracy) = add_model.evaluate(train_features, train_labels, batch_size= 32, verbose= 1)\n",
    "print('Training Loss: ', eval_loss)\n",
    "print('Traning Accuracy:', eval_accuracy)"
   ]
  },
  {
   "cell_type": "markdown",
   "metadata": {},
   "source": [
    "# Test Accuracy"
   ]
  },
  {
   "cell_type": "code",
   "execution_count": 71,
   "metadata": {},
   "outputs": [
    {
     "name": "stdout",
     "output_type": "stream",
     "text": [
      "WARNING:tensorflow:Your input ran out of data; interrupting training. Make sure that your dataset or generator can generate at least `steps_per_epoch * epochs` batches (in this case, 78 batches). You may need to use the repeat() function when building your dataset.\n",
      "71/78 - 0s - loss: 0.8982 - acc: 0.6434\n",
      "Restored model, accuracy: 64.34%\n"
     ]
    }
   ],
   "source": [
    "# Evaluating Test features and labels (test accuracy and loss)\n",
    "\n",
    "loss, acc = model.evaluate(test_features, test_labels, verbose=2, steps = test_generator.samples // 8)\n",
    "print(\"Restored model, accuracy: {:5.2f}%\".format(100*acc))"
   ]
  },
  {
   "cell_type": "markdown",
   "metadata": {},
   "source": [
    "# Sample VGG16 Model with 800 images"
   ]
  },
  {
   "cell_type": "code",
   "execution_count": 15,
   "metadata": {},
   "outputs": [],
   "source": [
    "from tensorflow.keras.applications.vgg16 import VGG16\n",
    "\n",
    "base_model = VGG16(input_shape = (250, 250, 3), # Shape of our images\n",
    "include_top = False, # Leave out the last fully connected layer\n",
    "weights = 'imagenet')"
   ]
  },
  {
   "cell_type": "code",
   "execution_count": 16,
   "metadata": {},
   "outputs": [],
   "source": [
    "\n",
    "for layer in base_model.layers:\n",
    "    layer.trainable = False"
   ]
  },
  {
   "cell_type": "code",
   "execution_count": 17,
   "metadata": {},
   "outputs": [],
   "source": [
    "# Flatten the output layer to 1 dimension\n",
    "x = layers.Flatten()(base_model.output)\n",
    "\n",
    "# Add a fully connected layer with 512 hidden units and ReLU activation\n",
    "x = layers.Dense(512, activation='relu')(x)\n",
    "x = layers.Dense(256, activation='relu')(x)\n",
    "\n",
    "# Add a dropout rate of 0.5\n",
    "x = layers.Dropout(0.5)(x)\n",
    "\n",
    "# Add a final sigmoid layer for classification\n",
    "x = layers.Dense(5, activation='softmax')(x)\n",
    "\n",
    "model = tf.keras.models.Model(base_model.input, x)\n",
    "\n",
    "model.compile(optimizer = tf.keras.optimizers.Adam(lr=0.0001), loss = 'categorical_crossentropy',metrics = ['acc'])\n"
   ]
  },
  {
   "cell_type": "markdown",
   "metadata": {},
   "source": [
    "# Accuracy"
   ]
  },
  {
   "cell_type": "code",
   "execution_count": 28,
   "metadata": {},
   "outputs": [
    {
     "name": "stdout",
     "output_type": "stream",
     "text": [
      "Training Accuracy = [0.33984375, 0.4052734375, 0.4306640625, 0.4814453125, 0.4916420876979828, 0.484375, 0.5185546875, 0.4970703125, 0.5083579421043396, 0.5341796875]\n",
      "Validation Accuracy = [0.39702603220939636, 0.413382887840271, 0.5249070525169373, 0.53011155128479, 0.5226765871047974, 0.5442379117012024, 0.5100371837615967, 0.5635687708854675, 0.5657992362976074, 0.553903341293335]\n"
     ]
    }
   ],
   "source": [
    "print ('Training Accuracy = ' + str(vgghist.history['acc']))\n",
    "print ('Validation Accuracy = ' + str(vgghist.history['val_acc']))"
   ]
  },
  {
   "cell_type": "code",
   "execution_count": 21,
   "metadata": {},
   "outputs": [
    {
     "data": {
      "image/png": "[encoded data removed]",
      "text/plain": [
       "<Figure size 432x288 with 1 Axes>"
      ]
     },
     "metadata": {
      "needs_background": "light"
     },
     "output_type": "display_data"
    }
   ],
   "source": [
    "import matplotlib.pyplot as plt\n",
    "plt.plot(vgghist.history[\"acc\"])\n",
    "plt.plot(vgghist.history['val_acc'])\n",
    "plt.plot(vgghist.history['loss'])\n",
    "plt.plot(vgghist.history['val_loss'])\n",
    "plt.title(\"model accuracy\")\n",
    "plt.ylabel(\"Accuracy\")\n",
    "plt.xlabel(\"Epoch\")\n",
    "plt.legend([\"Accuracy\",\"Validation Accuracy\",\"loss\",\"Validation Loss\"])\n",
    "plt.show()"
   ]
  }
 ],
 "metadata": {
  "kernelspec": {
   "display_name": "Python 3",
   "language": "python",
   "name": "python3"
  },
  "language_info": {
   "codemirror_mode": {
    "name": "ipython",
    "version": 3
   },
   "file_extension": ".py",
   "mimetype": "text/x-python",
   "name": "python",
   "nbconvert_exporter": "python",
   "pygments_lexer": "ipython3",
   "version": "3.8.5"
  }
 },
 "nbformat": 4,
 "nbformat_minor": 4
}
